{
 "cells": [
  {
   "cell_type": "markdown",
   "metadata": {},
   "source": [
    "# 크롤링!"
   ]
  },
  {
   "cell_type": "code",
   "execution_count": 155,
   "metadata": {},
   "outputs": [],
   "source": [
    "from urllib.request import urlopen\n",
    "from bs4 import BeautifulSoup\n",
    "\n",
    "# 아래의 함수는 네이버 기사의 주소를 넣어주면 기사의 제목과 본문을 반환하는 함수입니다.\n",
    "\n",
    "def get_naver_news(url):# url : 기사의 주소\n",
    "    html = urlopen(url)\n",
    "    source = html.read()\n",
    "    html.close()\n",
    "    soup = BeautifulSoup(source, 'lxml', from_encoding='utf-8')\n",
    "    title = soup.findAll('div', {'id':'main_content'})[0].findAll('div', {'class':'article_info'})[0].find('h3',{'id':'articleTitle'}).text\n",
    "    main_text = soup.findAll('div', {'id':'articleBodyContents'})[0].get_text(\" \", strip=True)\n",
    "    main_text = main_text[63:]\n",
    "    \n",
    "    return title, main_text  # title : 기사의 제목, main_text : 기사의 본문"
   ]
  },
  {
   "cell_type": "code",
   "execution_count": 156,
   "metadata": {},
   "outputs": [],
   "source": [
    "# 위 함수에 기사 주소를 입력해 줍니다.\n",
    "title, main_text = get_naver_news('https://news.naver.com/main/read.nhn?mode=LSD&mid=sec&oid=022&aid=0003297750&sid1=001')"
   ]
  },
  {
   "cell_type": "code",
   "execution_count": 157,
   "metadata": {},
   "outputs": [
    {
     "name": "stdout",
     "output_type": "stream",
     "text": [
      "자녀 10명 중 8명 “부모 의료비 때문에 소득 감소”\n"
     ]
    }
   ],
   "source": [
    "# 기사 제목을 프린트합니다.\n",
    "print(title)"
   ]
  },
  {
   "cell_type": "code",
   "execution_count": 158,
   "metadata": {},
   "outputs": [
    {
     "name": "stdout",
     "output_type": "stream",
     "text": [
      "부모의 의료비를 지원한 자녀 10명 중 8명이 가계소득 감소를 경험한 것으로 조사됐다. 20일 삼성생명 은퇴연구소의 ‘고령자 의료소비 실태 및 인식조사’ 보고서에 따르면 부모 의료비를 지원하던 자녀 중 82%의 가계소득이 감소했다. 가계소득 감소폭은 10∼25%가 38%로 가장 많았고, 이어 25∼50%가 20%, 10% 미만이 17%였다. 연구소는 지난 6월 5일부터 11일까지 최근 5년 내 부모의 의료비로 1000만원 이상 지출하고 65세 이상 부모를 부양하고 있는 성인 400명을 조사됐다. 부모의 의료비를 마련하는 방법으로 응답자 등 자녀의 지원을 받았다는 답은 모두 47%였다. 반면 보험금 활용은 18%, 보험금 외 금융자산은 11%, 부동산과 기타자산은 8%에 그쳤다. 부모를 지원한 자녀는 부모의 의료비를 마련하기 위해 금융자산을 활용했다는 답이 46%로 가장 많았다. 이어 생활비 지출을 줄였다는 응답이 26%, 부채를 활용했다는 응답 10%였다. 부모 스스로 의료비를 준비하지 못한 이유에 대해 자녀들은 ‘노후 의료비 필요성을 인식하지 못했다’(30%)고 답했다. ‘부족한 노후 생활비’는 25%, ‘손·자녀 양육 및 교육비’는 20%였다. 응답자 부모의 평균 투병기간은 6.1년이고 치료·간병비 등 평균 의료비는 3228만원으로 나타났다. 특히 투병기간이 10년 이상인 경우 투병기간 2년 이하와 비교해 의료비 비중은 58%에서 50%로 감소하는 반면, 약제비(7→12%)와 건강기능식품·보조기구 구입비용(8→15%) 등 간접 의료비가 늘어나는 것으로 조사됐다. 조명기 삼성생명 은퇴연구소 수석연구원은 “부모의 노후의료비 때문에 부모 자신은 물론 자녀의 가계와 가족관계까지 영향을 끼친다”며 “투병기간이 길어지는 추세를 감안해 치료비뿐만 아니라 간접비용도 준비해야 한다”고 말했다. 백소용 기자 swinia@segye.com ⓒ 세상을 보는 눈, 글로벌 미디어 세계일보\n"
     ]
    }
   ],
   "source": [
    "print(main_text)"
   ]
  },
  {
   "cell_type": "code",
   "execution_count": 159,
   "metadata": {},
   "outputs": [],
   "source": [
    "# url_list에 다른 기사를 추가하시면 그 기사에 대한 결과도 보실수 있습니다.\n",
    "url_list = ['https://news.naver.com/main/read.nhn?mode=LSD&mid=sec&oid=022&aid=0003297750&sid1=001', \n",
    "            'https://news.naver.com/main/read.nhn?mode=LS2D&mid=shm&sid1=101&sid2=310&oid=469&aid=0000322904',\n",
    "            'https://news.naver.com/main/ranking/read.nhn?rankingType=popular_day&oid=005&aid=0001205365&date=20190606&type=1&rankingSectionId=102&rankingSeq=16']"
   ]
  },
  {
   "cell_type": "code",
   "execution_count": 160,
   "metadata": {},
   "outputs": [],
   "source": [
    "# url_list에 있는 기사를 읽어오고 본문만 news_list에 저장합니다.\n",
    "news_list = []\n",
    "for url in url_list:\n",
    "    title, main_text = get_naver_news(url)\n",
    "    news_list.append((main_text))"
   ]
  },
  {
   "cell_type": "code",
   "execution_count": 161,
   "metadata": {},
   "outputs": [
    {
     "name": "stdout",
     "output_type": "stream",
     "text": [
      "“아들이 자는 사이 남편 살해했다” 고유정 진술에 ‘충격’\n"
     ]
    }
   ],
   "source": [
    "print(title)"
   ]
  },
  {
   "cell_type": "code",
   "execution_count": 162,
   "metadata": {},
   "outputs": [
    {
     "name": "stdout",
     "output_type": "stream",
     "text": [
      "제주도의 한 펜션에서 전 남편을 살해한 혐의로 구속된 고유정(36)이 범행 당시 현장에 아들이 있었다고 진술해 충격을 주고 있다. 그러나 실제 현장에 아들이 있었는지 여부는 확인되지 않고 있다. 제주지방경찰청에 따르면 지난달 25일 오후 4시20분쯤 고씨와 숨진 전 남편 강모씨(36)는 제주시 조천읍의 한 펜션에 함께 들어가는 모습이 펜션 CCTV에 담겼다. 당시 고씨는 가방 2개를 들고 있었다. 그로부터 사흘 뒤인 27일 낮 12시쯤 고씨가 가방을 들고 펜션을 나섰다. 반면 강씨의 모습은 보이지 않았다. 고씨는 경찰조사에서 “아들이 자는 사이 전 남편을 살해했다”고 진술한 것으로 전해졌다. 그러나 CCTV에 아들이 포착되지 않았고 고씨의 진술이 사실에 부합하지 않는 부분이 많아 혼선이 생기고 있는 상황이라는 점을 감안하면 현장에 아들이 함께 있었다는 고씨의 진술을 신뢰하긴 어렵다. 고씨는 다음날인 28일 펜션에서 퇴실했고 완도행 여객선을 타고 제주를 빠져나왔다. 경찰은 이날 제주를 빠져나가기 위해 고씨가 이용한 완도행 여객선 내 CCTV를 확보해 분석한 결과 고씨가 여객선에서 무언가를 바다에 버리는 모습을 포착했다. 해당 CCTV에는 고씨가 오후 8시30분 출항하는 여객선에 탑승한 지 1시간만인 오후 9시30분쯤 여행 가방에서 무언가 담긴 봉지를 꺼내 수차례 걸쳐 바다에 버리는 모습이 담긴 것으로 알려졌다. 강씨의 유족들은 법원 결정으로 강씨와 아들이 만나게 되자 고씨가 살인을 저질렀다고 주장하고 있다. 경찰은 프로파일러 5명을 투입해 고씨의 범행동기를 밝히는데 주력하고 있다. 또 고씨가 피해자에게 약을 먹였는지 여부를 알아보기 위해 펜션 현장에서 발견된 혈흔에서 약독물 검사를 진행할 예정이다. 아울러 경찰은 고씨의 시신을 찾기 위해 해경과 해상을 수색 중이다. 경찰은 또 고씨가 강씨의 시신을 해상에 이어 육지에도 유기했을 것으로 보고 수사를 확대하고 있다. 이는 고씨가 제주를 떠난 뒤 주거지인 충북 청주시에 도착하기 전인 5월 31일 까지 전남 영암과 무안을 거쳐 경기 김포시에 머문 것으로 알려졌기 때문이다. 고씨는 전 남편 강씨의 휴대전화를 통해 자신에게 문자를 보내는 등 범행을 은폐 시도를 한 것으로 알려졌다. 고씨는 또 휴대전화에서 니코틴 치사량과 살해도구를 검색한 것도 확인돼 계획적 범행으로 드러났다. 경찰은 고씨를 상대로 오는 11일까지 수사를 진행한 뒤 검찰에 송치할 방침이다. 이날은 고씨의 구속 만기일이다. 천금주 기자 juju79@kmib.co.kr [국민일보 채널 구독하고 5000원 상품권 받기] [취향저격 뉴스는 여기] [의뢰하세요 취재대행소 왱] GoodNews paper ⓒ 국민일보(www.kmib.co.kr) , 무단전재 및 재배포금지\n"
     ]
    }
   ],
   "source": [
    "# 두번째 기사 본문입니다.\n",
    "print(news_list[2])"
   ]
  },
  {
   "cell_type": "code",
   "execution_count": 163,
   "metadata": {},
   "outputs": [
    {
     "name": "stdout",
     "output_type": "stream",
     "text": [
      "['제주도/Noun', '의/Josa', '하다/Verb', '펜션/Noun', '에서/Josa', '전/Noun', '남편/Noun', '을/Josa', '살해/Noun', '한/Josa', '혐의/Noun', '로/Josa', '구속/Noun', '되다/Verb', '고/Modifier', '유정/Noun', '(/Punctuation', '36/Number', ')/Punctuation', '이/Noun', '범행/Noun', '당시/Noun', '현장/Noun', '에/Josa', '아들/Noun', '이/Josa', '있다/Adjective', '진술/Noun', '하다/Verb', '충격/Noun']\n"
     ]
    }
   ],
   "source": [
    "from konlpy.tag import Okt\n",
    "\n",
    "# token화를 합니다.\n",
    "t = Okt()\n",
    "pos = lambda d: [\"/\".join(p) for p in t.pos(d, stem=True, norm=True)]\n",
    "news_ko = [pos(news) for news in news_list]\n",
    "\n",
    "# 30개의 토큰만 프린트해서 확인합니다.\n",
    "print(news_ko[2][:30])"
   ]
  },
  {
   "cell_type": "code",
   "execution_count": 164,
   "metadata": {},
   "outputs": [],
   "source": [
    "# 토큰을 자연수로 바꿔주는 역할을 합니다.\n",
    "from gensim import corpora\n",
    "\n",
    "dictionary_ko = corpora.Dictionary(news_ko)"
   ]
  },
  {
   "cell_type": "code",
   "execution_count": 165,
   "metadata": {},
   "outputs": [
    {
     "name": "stdout",
     "output_type": "stream",
     "text": [
      "첫번째 10개 단어의 TF-IDF 벡터 : [(0, 2), (1, 3), (2, 5), (3, 3), (4, 13), (5, 2), (6, 2), (7, 1), (8, 1), (9, 1)]\n",
      "상위 10개 TF-IDF 벡터 : [(203, 16), (4, 13), (126, 12), (169, 12), (121, 11), (96, 10), (163, 10), (167, 9), (165, 7), (170, 7)]\n",
      "가장 많이 등장한 토큰 : 말/Noun\n"
     ]
    }
   ],
   "source": [
    "# TF-IDF를 계산합니다.\n",
    "from gensim import models\n",
    "tf_ko = [dictionary_ko.doc2bow(text) for text in news_ko]\n",
    "tfidf_model_ko = models.TfidfModel(tf_ko)\n",
    "tfidf_ko = tfidf_model_ko[tf_ko]\n",
    "\n",
    "\n",
    "print('첫번째 10개 단어의 TF-IDF 벡터 :', tfidf_ko.corpus[0][:10])\n",
    "print('상위 10개 TF-IDF 벡터 :', sorted(tfidf_ko.corpus[0], key=lambda x: x[1], reverse=True)[:10])\n",
    "print('가장 많이 등장한 토큰 :', dictionary_ko.get(100))"
   ]
  },
  {
   "cell_type": "code",
   "execution_count": 166,
   "metadata": {},
   "outputs": [
    {
     "data": {
      "text/plain": [
       "[(1, 0.10066926392705332),\n",
       " (2, 0.16778210654508885),\n",
       " (5, 0.06711284261803555),\n",
       " (6, 0.06711284261803555),\n",
       " (7, 0.03355642130901777),\n",
       " (8, 0.03355642130901777),\n",
       " (9, 0.03355642130901777),\n",
       " (10, 0.012384676681779184),\n",
       " (11, 0.03355642130901777),\n",
       " (12, 0.03355642130901777)]"
      ]
     },
     "execution_count": 166,
     "metadata": {},
     "output_type": "execute_result"
    }
   ],
   "source": [
    "tfidf_ko[0][:10]"
   ]
  },
  {
   "cell_type": "code",
   "execution_count": 167,
   "metadata": {},
   "outputs": [
    {
     "name": "stdout",
     "output_type": "stream",
     "text": [
      "['제주도/Noun', '의/Josa', '하다/Verb', '펜션/Noun', '에서/Josa', '전/Noun', '남편/Noun', '을/Josa', '살해/Noun', '한/Josa']\n",
      "['고씨/Noun', '경찰/Noun', '아들/Noun', '펜션/Noun', '강씨/Noun', 'CCTV/Alpha', '남편/Noun', '모습/Noun', '범행/Noun', '않다/Verb']\n"
     ]
    }
   ],
   "source": [
    "def tfidf_to_words(index, n_words):\n",
    "    id_list = [sorted(tfidf_ko[index], key=lambda x: x[1], reverse=True)[:n_words][i][0] for i in range(n_words)]\n",
    "    word_list = [dictionary_ko[id_list[i]] for i in range(n_words)]\n",
    "    return word_list \n",
    "\n",
    "print(news_ko[2][:10])\n",
    "print(tfidf_to_words(2, 10))"
   ]
  },
  {
   "cell_type": "code",
   "execution_count": 168,
   "metadata": {},
   "outputs": [
    {
     "name": "stdout",
     "output_type": "stream",
     "text": [
      "(2, '0.003*\"고씨/Noun\" + 0.003*\"비/Noun\" + 0.003*\"의료/Noun\" + 0.003*\"GS/Alpha\" + 0.003*\"부모/Noun\" + 0.003*\"손바닥/Noun\" + 0.002*\"인증/Noun\" + 0.002*\"자녀/Noun\" + 0.002*\"정맥/Noun\" + 0.002*\"펜션/Noun\"')\n"
     ]
    }
   ],
   "source": [
    "# LDA\n",
    "ntopics, nwords = 3, 10\n",
    "\n",
    "import numpy as np; np.random.seed(20)  # optional\n",
    "lda_ko = models.ldamodel.LdaModel(tfidf_ko, id2word=dictionary_ko,\n",
    "                                  num_topics=ntopics)\n",
    "\n",
    "lda = lda_ko.print_topics(num_topics=ntopics, num_words=nwords)[2]\n",
    "print(lda_ko.print_topics(num_topics=ntopics, num_words=nwords)[2])"
   ]
  },
  {
   "cell_type": "code",
   "execution_count": 169,
   "metadata": {},
   "outputs": [
    {
     "data": {
      "text/plain": [
       "'제주도의 한 펜션에서 전 남편을 살해한 혐의로 구속된 고유정(36)이 범행 당시 현장에 아들이 있었다고 진술해 충격을 주고 있다. 그러나 실제 현장에 아들이 있었는지 여부는 확인되지 않고 있다. 제주지방경찰청에 따르면 지난달 25일 오후 4시20분쯤 고씨와 숨진 전 남편 강모씨(36)는 제주시 조천읍의 한 펜션에 함께 들어가는 모습이 펜션 CCTV에 담겼다. 당시 고씨는 가방 2개를 들고 있었다. 그로부터 사흘 뒤인 27일 낮 12시쯤 고씨가 가방을 들고 펜션을 나섰다. 반면 강씨의 모습은 보이지 않았다. 고씨는 경찰조사에서 “아들이 자는 사이 전 남편을 살해했다”고 진술한 것으로 전해졌다. 그러나 CCTV에 아들이 포착되지 않았고 고씨의 진술이 사실에 부합하지 않는 부분이 많아 혼선이 생기고 있는 상황이라는 점을 감안하면 현장에 아들이 함께 있었다는 고씨의 진술을 신뢰하긴 어렵다. 고씨는 다음날인 28일 펜션에서 퇴실했고 완도행 여객선을 타고 제주를 빠져나왔다. 경찰은 이날 제주를 빠져나가기 위해 고씨가 이용한 완도행 여객선 내 CCTV를 확보해 분석한 결과 고씨가 여객선에서 무언가를 바다에 버리는 모습을 포착했다. 해당 CCTV에는 고씨가 오후 8시30분 출항하는 여객선에 탑승한 지 1시간만인 오후 9시30분쯤 여행 가방에서 무언가 담긴 봉지를 꺼내 수차례 걸쳐 바다에 버리는 모습이 담긴 것으로 알려졌다. 강씨의 유족들은 법원 결정으로 강씨와 아들이 만나게 되자 고씨가 살인을 저질렀다고 주장하고 있다. 경찰은 프로파일러 5명을 투입해 고씨의 범행동기를 밝히는데 주력하고 있다. 또 고씨가 피해자에게 약을 먹였는지 여부를 알아보기 위해 펜션 현장에서 발견된 혈흔에서 약독물 검사를 진행할 예정이다. 아울러 경찰은 고씨의 시신을 찾기 위해 해경과 해상을 수색 중이다. 경찰은 또 고씨가 강씨의 시신을 해상에 이어 육지에도 유기했을 것으로 보고 수사를 확대하고 있다. 이는 고씨가 제주를 떠난 뒤 주거지인 충북 청주시에 도착하기 전인 5월 31일 까지 전남 영암과 무안을 거쳐 경기 김포시에 머문 것으로 알려졌기 때문이다. 고씨는 전 남편 강씨의 휴대전화를 통해 자신에게 문자를 보내는 등 범행을 은폐 시도를 한 것으로 알려졌다. 고씨는 또 휴대전화에서 니코틴 치사량과 살해도구를 검색한 것도 확인돼 계획적 범행으로 드러났다. 경찰은 고씨를 상대로 오는 11일까지 수사를 진행한 뒤 검찰에 송치할 방침이다. 이날은 고씨의 구속 만기일이다. 천금주 기자 juju79@kmib.co.kr [국민일보 채널 구독하고 5000원 상품권 받기] [취향저격 뉴스는 여기] [의뢰하세요 취재대행소 왱] GoodNews paper ⓒ 국민일보(www.kmib.co.kr) , 무단전재 및 재배포금지'"
      ]
     },
     "execution_count": 169,
     "metadata": {},
     "output_type": "execute_result"
    }
   ],
   "source": [
    "news_list[2]"
   ]
  },
  {
   "cell_type": "code",
   "execution_count": 170,
   "metadata": {},
   "outputs": [
    {
     "data": {
      "text/plain": [
       "'고씨는 경찰조사에서 “아들이 자는 사이 전 남편을 살해했다”고 진술한 것으로 전해졌다.\\n아울러 경찰은 고씨의 시신을 찾기 위해 해경과 해상을 수색 중이다.\\n경찰은 또 고씨가 강씨의 시신을 해상에 이어 육지에도 유기했을 것으로 보고 수사를 확대하고 있다.\\n고씨는 전 남편 강씨의 휴대전화를 통해 자신에게 문자를 보내는 등 범행을 은폐 시도를 한 것으로 알려졌다.\\n이날은 고씨의 구속 만기일이다.'"
      ]
     },
     "execution_count": 170,
     "metadata": {},
     "output_type": "execute_result"
    }
   ],
   "source": [
    "from textrankr import TextRank\n",
    "\n",
    "textrank = TextRank(news_list[2])\n",
    "# 요약문을 프린트합니다.\n",
    "prediction = textrank.summarize(5)\n",
    "prediction"
   ]
  },
  {
   "cell_type": "markdown",
   "metadata": {},
   "source": [
    "## 평가 방법 Rouge!\n",
    "\n",
    "#### '요약문'과 '핵심 문장'을 비교한다.\n",
    "#### 요약문 = prediction\n",
    "#### 핵심문장 = topic_lda"
   ]
  },
  {
   "cell_type": "code",
   "execution_count": 171,
   "metadata": {},
   "outputs": [],
   "source": [
    "from rouge import Rouge"
   ]
  },
  {
   "cell_type": "code",
   "execution_count": 172,
   "metadata": {},
   "outputs": [],
   "source": [
    "rouge = Rouge()\n",
    "Rouge_Score = rouge.get_scores(prediction, news_list[2],avg=True)"
   ]
  },
  {
   "cell_type": "code",
   "execution_count": 173,
   "metadata": {},
   "outputs": [
    {
     "data": {
      "text/plain": [
       "{'rouge-1': {'f': 0.3143812682533753, 'p': 1.0, 'r': 0.1865079365079365},\n",
       " 'rouge-2': {'f': 0.2786885220747111,\n",
       "  'p': 0.9444444444444444,\n",
       "  'r': 0.16346153846153846},\n",
       " 'rouge-l': {'f': 0.19175162389180053, 'p': 1.0, 'r': 0.1865079365079365}}"
      ]
     },
     "execution_count": 173,
     "metadata": {},
     "output_type": "execute_result"
    }
   ],
   "source": [
    "Rouge_Score"
   ]
  },
  {
   "cell_type": "markdown",
   "metadata": {},
   "source": [
    "## Ground_Truth"
   ]
  },
  {
   "cell_type": "code",
   "execution_count": 174,
   "metadata": {},
   "outputs": [],
   "source": [
    "Ground_Truth = \"고씨는 경찰조사에서 “아들이 자는 사이 전 남편을 살해했다”고 진술한 것으로 전해졌다.\\n경찰은 또 고씨가 강씨의 시신을 해상에 이어 육지에도 유기했을 것으로 보고 수사를 확대하고 있다.\\n고씨는 범행을 은폐 시도를 한 것으로 알려졌다.\""
   ]
  },
  {
   "cell_type": "code",
   "execution_count": 175,
   "metadata": {},
   "outputs": [
    {
     "data": {
      "text/plain": [
       "[{'rouge-1': {'f': 0.763157890017313, 'p': 0.6170212765957447, 'r': 1.0},\n",
       "  'rouge-2': {'f': 0.6823529365425606,\n",
       "   'p': 0.5370370370370371,\n",
       "   'r': 0.9354838709677419},\n",
       "  'rouge-l': {'f': 0.689873022805301, 'p': 0.6170212765957447, 'r': 1.0}}]"
      ]
     },
     "execution_count": 175,
     "metadata": {},
     "output_type": "execute_result"
    }
   ],
   "source": [
    "rouge = Rouge()\n",
    "Rouge_Score = rouge.get_scores(prediction, Ground_Truth)\n",
    "Rouge_Score"
   ]
  },
  {
   "cell_type": "code",
   "execution_count": null,
   "metadata": {},
   "outputs": [],
   "source": []
  }
 ],
 "metadata": {
  "kernelspec": {
   "display_name": "Python 3",
   "language": "python",
   "name": "python3"
  },
  "language_info": {
   "codemirror_mode": {
    "name": "ipython",
    "version": 3
   },
   "file_extension": ".py",
   "mimetype": "text/x-python",
   "name": "python",
   "nbconvert_exporter": "python",
   "pygments_lexer": "ipython3",
   "version": "3.5.6"
  }
 },
 "nbformat": 4,
 "nbformat_minor": 2
}
